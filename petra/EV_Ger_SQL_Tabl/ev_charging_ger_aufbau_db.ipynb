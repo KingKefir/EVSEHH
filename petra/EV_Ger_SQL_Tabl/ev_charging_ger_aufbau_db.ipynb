{
 "cells": [
  {
   "cell_type": "code",
   "execution_count": 1,
   "id": "46c7a0c4-70f8-47ad-b54d-a843d112fcae",
   "metadata": {},
   "outputs": [],
   "source": [
    "import pandas as pd\n",
    "import numpy as np\n",
    "import seaborn as sns\n",
    "import matplotlib.pyplot as plt"
   ]
  },
  {
   "cell_type": "code",
   "execution_count": 2,
   "id": "e4cebfbf-0d69-4476-9d64-f0b94d008030",
   "metadata": {},
   "outputs": [
    {
     "data": {
      "text/html": [
       "<div>\n",
       "<style scoped>\n",
       "    .dataframe tbody tr th:only-of-type {\n",
       "        vertical-align: middle;\n",
       "    }\n",
       "\n",
       "    .dataframe tbody tr th {\n",
       "        vertical-align: top;\n",
       "    }\n",
       "\n",
       "    .dataframe thead th {\n",
       "        text-align: right;\n",
       "    }\n",
       "</style>\n",
       "<table border=\"1\" class=\"dataframe\">\n",
       "  <thead>\n",
       "    <tr style=\"text-align: right;\">\n",
       "      <th></th>\n",
       "      <th>Unnamed: 0</th>\n",
       "      <th>betreiber</th>\n",
       "      <th>art_der_ladeeinrichung</th>\n",
       "      <th>anzahl_ladepunkte</th>\n",
       "      <th>anschlussleistung</th>\n",
       "      <th>steckertypen1</th>\n",
       "      <th>steckertypen2</th>\n",
       "      <th>steckertypen3</th>\n",
       "      <th>steckertypen4</th>\n",
       "      <th>p1_kw</th>\n",
       "      <th>...</th>\n",
       "      <th>p4_kw</th>\n",
       "      <th>kreis_kreisfreie_stadt</th>\n",
       "      <th>ort</th>\n",
       "      <th>postleitzahl</th>\n",
       "      <th>strasse</th>\n",
       "      <th>hausnummer</th>\n",
       "      <th>adresszusatz</th>\n",
       "      <th>inbetriebnahmedatum</th>\n",
       "      <th>breitengrad</th>\n",
       "      <th>laengengrad</th>\n",
       "    </tr>\n",
       "  </thead>\n",
       "  <tbody>\n",
       "    <tr>\n",
       "      <th>0</th>\n",
       "      <td>0</td>\n",
       "      <td>GGEW AG</td>\n",
       "      <td>Normalladeeinrichtung</td>\n",
       "      <td>1</td>\n",
       "      <td>4.6</td>\n",
       "      <td>AC Steckdose Typ 2</td>\n",
       "      <td>NaN</td>\n",
       "      <td>NaN</td>\n",
       "      <td>NaN</td>\n",
       "      <td>4.6</td>\n",
       "      <td>...</td>\n",
       "      <td>NaN</td>\n",
       "      <td>Landkreis Bergstraße</td>\n",
       "      <td>Lorsch</td>\n",
       "      <td>64653</td>\n",
       "      <td>Klosterstr.</td>\n",
       "      <td>23</td>\n",
       "      <td>NaN</td>\n",
       "      <td>2017-01-02</td>\n",
       "      <td>49.653064</td>\n",
       "      <td>8.572109</td>\n",
       "    </tr>\n",
       "    <tr>\n",
       "      <th>1</th>\n",
       "      <td>1</td>\n",
       "      <td>Pfalzwerke AG</td>\n",
       "      <td>Schnellladeeinrichtung</td>\n",
       "      <td>2</td>\n",
       "      <td>75.0</td>\n",
       "      <td>AC Steckdose Typ 2</td>\n",
       "      <td>DC Kupplung Combo</td>\n",
       "      <td>NaN</td>\n",
       "      <td>NaN</td>\n",
       "      <td>22.0</td>\n",
       "      <td>...</td>\n",
       "      <td>NaN</td>\n",
       "      <td>Landkreis Bergstraße</td>\n",
       "      <td>Lorsch</td>\n",
       "      <td>64653</td>\n",
       "      <td>Nibelungenstraße</td>\n",
       "      <td>135-137</td>\n",
       "      <td>NaN</td>\n",
       "      <td>2021-04-27</td>\n",
       "      <td>49.652969</td>\n",
       "      <td>8.554764</td>\n",
       "    </tr>\n",
       "    <tr>\n",
       "      <th>2</th>\n",
       "      <td>2</td>\n",
       "      <td>ENTEGA Energie GmbH</td>\n",
       "      <td>Normalladeeinrichtung</td>\n",
       "      <td>2</td>\n",
       "      <td>44.0</td>\n",
       "      <td>AC Steckdose Typ 2</td>\n",
       "      <td>AC Steckdose Typ 2</td>\n",
       "      <td>NaN</td>\n",
       "      <td>NaN</td>\n",
       "      <td>22.0</td>\n",
       "      <td>...</td>\n",
       "      <td>NaN</td>\n",
       "      <td>Landkreis Bergstraße</td>\n",
       "      <td>Fürth</td>\n",
       "      <td>64658</td>\n",
       "      <td>Krumbacher Str.</td>\n",
       "      <td>39</td>\n",
       "      <td>NaN</td>\n",
       "      <td>2017-11-21</td>\n",
       "      <td>49.658037</td>\n",
       "      <td>8.787881</td>\n",
       "    </tr>\n",
       "    <tr>\n",
       "      <th>3</th>\n",
       "      <td>3</td>\n",
       "      <td>Entega Plus GmbH</td>\n",
       "      <td>Normalladeeinrichtung</td>\n",
       "      <td>2</td>\n",
       "      <td>22.0</td>\n",
       "      <td>AC Steckdose Typ 2</td>\n",
       "      <td>AC Steckdose Typ 2</td>\n",
       "      <td>NaN</td>\n",
       "      <td>NaN</td>\n",
       "      <td>22.0</td>\n",
       "      <td>...</td>\n",
       "      <td>NaN</td>\n",
       "      <td>Landkreis Bergstraße</td>\n",
       "      <td>Fürth</td>\n",
       "      <td>64658</td>\n",
       "      <td>Erbacher Str.</td>\n",
       "      <td>102</td>\n",
       "      <td>a</td>\n",
       "      <td>2022-04-08</td>\n",
       "      <td>49.663670</td>\n",
       "      <td>8.796830</td>\n",
       "    </tr>\n",
       "    <tr>\n",
       "      <th>4</th>\n",
       "      <td>4</td>\n",
       "      <td>Entega Plus GmbH</td>\n",
       "      <td>Normalladeeinrichtung</td>\n",
       "      <td>2</td>\n",
       "      <td>22.0</td>\n",
       "      <td>AC Steckdose Typ 2</td>\n",
       "      <td>AC Steckdose Typ 2</td>\n",
       "      <td>NaN</td>\n",
       "      <td>NaN</td>\n",
       "      <td>22.0</td>\n",
       "      <td>...</td>\n",
       "      <td>NaN</td>\n",
       "      <td>Landkreis Bergstraße</td>\n",
       "      <td>Fürth</td>\n",
       "      <td>64658</td>\n",
       "      <td>Schulstr.</td>\n",
       "      <td>12</td>\n",
       "      <td>NaN</td>\n",
       "      <td>2022-04-08</td>\n",
       "      <td>49.646360</td>\n",
       "      <td>8.781410</td>\n",
       "    </tr>\n",
       "  </tbody>\n",
       "</table>\n",
       "<p>5 rows × 22 columns</p>\n",
       "</div>"
      ],
      "text/plain": [
       "   Unnamed: 0            betreiber  art_der_ladeeinrichung  anzahl_ladepunkte  \\\n",
       "0           0              GGEW AG   Normalladeeinrichtung                  1   \n",
       "1           1        Pfalzwerke AG  Schnellladeeinrichtung                  2   \n",
       "2           2  ENTEGA Energie GmbH   Normalladeeinrichtung                  2   \n",
       "3           3     Entega Plus GmbH   Normalladeeinrichtung                  2   \n",
       "4           4     Entega Plus GmbH   Normalladeeinrichtung                  2   \n",
       "\n",
       "   anschlussleistung       steckertypen1       steckertypen2 steckertypen3  \\\n",
       "0                4.6  AC Steckdose Typ 2                 NaN           NaN   \n",
       "1               75.0  AC Steckdose Typ 2   DC Kupplung Combo           NaN   \n",
       "2               44.0  AC Steckdose Typ 2  AC Steckdose Typ 2           NaN   \n",
       "3               22.0  AC Steckdose Typ 2  AC Steckdose Typ 2           NaN   \n",
       "4               22.0  AC Steckdose Typ 2  AC Steckdose Typ 2           NaN   \n",
       "\n",
       "  steckertypen4  p1_kw  ...  p4_kw  kreis_kreisfreie_stadt     ort  \\\n",
       "0           NaN    4.6  ...    NaN    Landkreis Bergstraße  Lorsch   \n",
       "1           NaN   22.0  ...    NaN    Landkreis Bergstraße  Lorsch   \n",
       "2           NaN   22.0  ...    NaN    Landkreis Bergstraße   Fürth   \n",
       "3           NaN   22.0  ...    NaN    Landkreis Bergstraße   Fürth   \n",
       "4           NaN   22.0  ...    NaN    Landkreis Bergstraße   Fürth   \n",
       "\n",
       "  postleitzahl           strasse  hausnummer adresszusatz inbetriebnahmedatum  \\\n",
       "0        64653       Klosterstr.          23          NaN          2017-01-02   \n",
       "1        64653  Nibelungenstraße     135-137          NaN          2021-04-27   \n",
       "2        64658   Krumbacher Str.          39          NaN          2017-11-21   \n",
       "3        64658     Erbacher Str.         102            a          2022-04-08   \n",
       "4        64658         Schulstr.          12          NaN          2022-04-08   \n",
       "\n",
       "  breitengrad laengengrad  \n",
       "0   49.653064    8.572109  \n",
       "1   49.652969    8.554764  \n",
       "2   49.658037    8.787881  \n",
       "3   49.663670    8.796830  \n",
       "4   49.646360    8.781410  \n",
       "\n",
       "[5 rows x 22 columns]"
      ]
     },
     "execution_count": 2,
     "metadata": {},
     "output_type": "execute_result"
    }
   ],
   "source": [
    "data = pd.read_csv(\"charging_data.csv\")\n",
    "data = pd.DataFrame(data)\n",
    "data.head()"
   ]
  },
  {
   "cell_type": "code",
   "execution_count": 3,
   "id": "3b9cd57e-1753-4985-a855-003622f84e1e",
   "metadata": {},
   "outputs": [
    {
     "data": {
      "text/plain": [
       "(36770, 22)"
      ]
     },
     "execution_count": 3,
     "metadata": {},
     "output_type": "execute_result"
    }
   ],
   "source": [
    "data.shape"
   ]
  },
  {
   "cell_type": "code",
   "execution_count": 4,
   "id": "23c8269f-1804-4d9b-bd86-a2898a1a6f90",
   "metadata": {},
   "outputs": [
    {
     "name": "stdout",
     "output_type": "stream",
     "text": [
      "<class 'pandas.core.frame.DataFrame'>\n",
      "RangeIndex: 36770 entries, 0 to 36769\n",
      "Data columns (total 22 columns):\n",
      " #   Column                  Non-Null Count  Dtype  \n",
      "---  ------                  --------------  -----  \n",
      " 0   Unnamed: 0              36770 non-null  int64  \n",
      " 1   betreiber               36770 non-null  object \n",
      " 2   art_der_ladeeinrichung  36770 non-null  object \n",
      " 3   anzahl_ladepunkte       36770 non-null  int64  \n",
      " 4   anschlussleistung       36770 non-null  float64\n",
      " 5   steckertypen1           36770 non-null  object \n",
      " 6   steckertypen2           31111 non-null  object \n",
      " 7   steckertypen3           2233 non-null   object \n",
      " 8   steckertypen4           1132 non-null   object \n",
      " 9   p1_kw                   36770 non-null  float64\n",
      " 10  p2_kw                   31129 non-null  float64\n",
      " 11  p3_kw                   2233 non-null   float64\n",
      " 12  p4_kw                   1131 non-null   float64\n",
      " 13  kreis_kreisfreie_stadt  36770 non-null  object \n",
      " 14  ort                     36770 non-null  object \n",
      " 15  postleitzahl            36770 non-null  int64  \n",
      " 16  strasse                 36770 non-null  object \n",
      " 17  hausnummer              36770 non-null  object \n",
      " 18  adresszusatz            4623 non-null   object \n",
      " 19  inbetriebnahmedatum     36770 non-null  object \n",
      " 20  breitengrad             36770 non-null  float64\n",
      " 21  laengengrad             36770 non-null  float64\n",
      "dtypes: float64(7), int64(3), object(12)\n",
      "memory usage: 6.2+ MB\n"
     ]
    }
   ],
   "source": [
    "data.info()\n"
   ]
  },
  {
   "cell_type": "code",
   "execution_count": 5,
   "id": "9bdb2359-15b5-45e1-8feb-e01f24c12f0a",
   "metadata": {},
   "outputs": [
    {
     "data": {
      "text/plain": [
       "Unnamed: 0                36770\n",
       "betreiber                  4772\n",
       "art_der_ladeeinrichung        2\n",
       "anzahl_ladepunkte             4\n",
       "anschlussleistung           213\n",
       "steckertypen1                41\n",
       "steckertypen2                30\n",
       "steckertypen3                19\n",
       "steckertypen4                14\n",
       "p1_kw                       116\n",
       "p2_kw                       102\n",
       "p3_kw                        44\n",
       "p4_kw                        30\n",
       "kreis_kreisfreie_stadt      400\n",
       "ort                        5960\n",
       "postleitzahl               6284\n",
       "strasse                   18142\n",
       "hausnummer                 1649\n",
       "adresszusatz               2938\n",
       "inbetriebnahmedatum        2902\n",
       "breitengrad               33698\n",
       "laengengrad               33794\n",
       "dtype: int64"
      ]
     },
     "execution_count": 5,
     "metadata": {},
     "output_type": "execute_result"
    }
   ],
   "source": [
    "data.nunique()"
   ]
  },
  {
   "cell_type": "code",
   "execution_count": 6,
   "id": "723ec4bb-82d8-417f-87d4-ad3b1ee4af05",
   "metadata": {},
   "outputs": [
    {
     "data": {
      "text/plain": [
       "Index(['Unnamed: 0', 'betreiber', 'art_der_ladeeinrichung',\n",
       "       'anzahl_ladepunkte', 'anschlussleistung', 'steckertypen1',\n",
       "       'steckertypen2', 'steckertypen3', 'steckertypen4', 'p1_kw', 'p2_kw',\n",
       "       'p3_kw', 'p4_kw', 'kreis_kreisfreie_stadt', 'ort', 'postleitzahl',\n",
       "       'strasse', 'hausnummer', 'adresszusatz', 'inbetriebnahmedatum',\n",
       "       'breitengrad', 'laengengrad'],\n",
       "      dtype='object')"
      ]
     },
     "execution_count": 6,
     "metadata": {},
     "output_type": "execute_result"
    }
   ],
   "source": [
    "data.columns"
   ]
  },
  {
   "cell_type": "code",
   "execution_count": 7,
   "id": "af6a8bae-f0e4-4e5b-85c9-2d7bc53bd21b",
   "metadata": {},
   "outputs": [],
   "source": [
    "data = data.rename(columns={\"Unnamed: 0\": \"ladeeinrichtung_id\"})\n",
    "data[\"ladeeinrichtung_id\"] = data[\"ladeeinrichtung_id\"] + 1"
   ]
  },
  {
   "cell_type": "code",
   "execution_count": 8,
   "id": "fdefb611-16e7-4e23-b1ff-33f4164152d9",
   "metadata": {},
   "outputs": [
    {
     "data": {
      "text/html": [
       "<div>\n",
       "<style scoped>\n",
       "    .dataframe tbody tr th:only-of-type {\n",
       "        vertical-align: middle;\n",
       "    }\n",
       "\n",
       "    .dataframe tbody tr th {\n",
       "        vertical-align: top;\n",
       "    }\n",
       "\n",
       "    .dataframe thead th {\n",
       "        text-align: right;\n",
       "    }\n",
       "</style>\n",
       "<table border=\"1\" class=\"dataframe\">\n",
       "  <thead>\n",
       "    <tr style=\"text-align: right;\">\n",
       "      <th></th>\n",
       "      <th>ladeeinrichtung_id</th>\n",
       "      <th>betreiber</th>\n",
       "      <th>art_der_ladeeinrichung</th>\n",
       "      <th>anzahl_ladepunkte</th>\n",
       "      <th>anschlussleistung</th>\n",
       "      <th>steckertypen1</th>\n",
       "      <th>steckertypen2</th>\n",
       "      <th>steckertypen3</th>\n",
       "      <th>steckertypen4</th>\n",
       "      <th>p1_kw</th>\n",
       "      <th>...</th>\n",
       "      <th>p4_kw</th>\n",
       "      <th>kreis_kreisfreie_stadt</th>\n",
       "      <th>ort</th>\n",
       "      <th>postleitzahl</th>\n",
       "      <th>strasse</th>\n",
       "      <th>hausnummer</th>\n",
       "      <th>adresszusatz</th>\n",
       "      <th>inbetriebnahmedatum</th>\n",
       "      <th>breitengrad</th>\n",
       "      <th>laengengrad</th>\n",
       "    </tr>\n",
       "  </thead>\n",
       "  <tbody>\n",
       "    <tr>\n",
       "      <th>0</th>\n",
       "      <td>1</td>\n",
       "      <td>GGEW AG</td>\n",
       "      <td>Normalladeeinrichtung</td>\n",
       "      <td>1</td>\n",
       "      <td>4.6</td>\n",
       "      <td>AC Steckdose Typ 2</td>\n",
       "      <td>NaN</td>\n",
       "      <td>NaN</td>\n",
       "      <td>NaN</td>\n",
       "      <td>4.6</td>\n",
       "      <td>...</td>\n",
       "      <td>NaN</td>\n",
       "      <td>Landkreis Bergstraße</td>\n",
       "      <td>Lorsch</td>\n",
       "      <td>64653</td>\n",
       "      <td>Klosterstr.</td>\n",
       "      <td>23</td>\n",
       "      <td>NaN</td>\n",
       "      <td>2017-01-02</td>\n",
       "      <td>49.653064</td>\n",
       "      <td>8.572109</td>\n",
       "    </tr>\n",
       "    <tr>\n",
       "      <th>1</th>\n",
       "      <td>2</td>\n",
       "      <td>Pfalzwerke AG</td>\n",
       "      <td>Schnellladeeinrichtung</td>\n",
       "      <td>2</td>\n",
       "      <td>75.0</td>\n",
       "      <td>AC Steckdose Typ 2</td>\n",
       "      <td>DC Kupplung Combo</td>\n",
       "      <td>NaN</td>\n",
       "      <td>NaN</td>\n",
       "      <td>22.0</td>\n",
       "      <td>...</td>\n",
       "      <td>NaN</td>\n",
       "      <td>Landkreis Bergstraße</td>\n",
       "      <td>Lorsch</td>\n",
       "      <td>64653</td>\n",
       "      <td>Nibelungenstraße</td>\n",
       "      <td>135-137</td>\n",
       "      <td>NaN</td>\n",
       "      <td>2021-04-27</td>\n",
       "      <td>49.652969</td>\n",
       "      <td>8.554764</td>\n",
       "    </tr>\n",
       "    <tr>\n",
       "      <th>2</th>\n",
       "      <td>3</td>\n",
       "      <td>ENTEGA Energie GmbH</td>\n",
       "      <td>Normalladeeinrichtung</td>\n",
       "      <td>2</td>\n",
       "      <td>44.0</td>\n",
       "      <td>AC Steckdose Typ 2</td>\n",
       "      <td>AC Steckdose Typ 2</td>\n",
       "      <td>NaN</td>\n",
       "      <td>NaN</td>\n",
       "      <td>22.0</td>\n",
       "      <td>...</td>\n",
       "      <td>NaN</td>\n",
       "      <td>Landkreis Bergstraße</td>\n",
       "      <td>Fürth</td>\n",
       "      <td>64658</td>\n",
       "      <td>Krumbacher Str.</td>\n",
       "      <td>39</td>\n",
       "      <td>NaN</td>\n",
       "      <td>2017-11-21</td>\n",
       "      <td>49.658037</td>\n",
       "      <td>8.787881</td>\n",
       "    </tr>\n",
       "    <tr>\n",
       "      <th>3</th>\n",
       "      <td>4</td>\n",
       "      <td>Entega Plus GmbH</td>\n",
       "      <td>Normalladeeinrichtung</td>\n",
       "      <td>2</td>\n",
       "      <td>22.0</td>\n",
       "      <td>AC Steckdose Typ 2</td>\n",
       "      <td>AC Steckdose Typ 2</td>\n",
       "      <td>NaN</td>\n",
       "      <td>NaN</td>\n",
       "      <td>22.0</td>\n",
       "      <td>...</td>\n",
       "      <td>NaN</td>\n",
       "      <td>Landkreis Bergstraße</td>\n",
       "      <td>Fürth</td>\n",
       "      <td>64658</td>\n",
       "      <td>Erbacher Str.</td>\n",
       "      <td>102</td>\n",
       "      <td>a</td>\n",
       "      <td>2022-04-08</td>\n",
       "      <td>49.663670</td>\n",
       "      <td>8.796830</td>\n",
       "    </tr>\n",
       "    <tr>\n",
       "      <th>4</th>\n",
       "      <td>5</td>\n",
       "      <td>Entega Plus GmbH</td>\n",
       "      <td>Normalladeeinrichtung</td>\n",
       "      <td>2</td>\n",
       "      <td>22.0</td>\n",
       "      <td>AC Steckdose Typ 2</td>\n",
       "      <td>AC Steckdose Typ 2</td>\n",
       "      <td>NaN</td>\n",
       "      <td>NaN</td>\n",
       "      <td>22.0</td>\n",
       "      <td>...</td>\n",
       "      <td>NaN</td>\n",
       "      <td>Landkreis Bergstraße</td>\n",
       "      <td>Fürth</td>\n",
       "      <td>64658</td>\n",
       "      <td>Schulstr.</td>\n",
       "      <td>12</td>\n",
       "      <td>NaN</td>\n",
       "      <td>2022-04-08</td>\n",
       "      <td>49.646360</td>\n",
       "      <td>8.781410</td>\n",
       "    </tr>\n",
       "  </tbody>\n",
       "</table>\n",
       "<p>5 rows × 22 columns</p>\n",
       "</div>"
      ],
      "text/plain": [
       "   ladeeinrichtung_id            betreiber  art_der_ladeeinrichung  \\\n",
       "0                   1              GGEW AG   Normalladeeinrichtung   \n",
       "1                   2        Pfalzwerke AG  Schnellladeeinrichtung   \n",
       "2                   3  ENTEGA Energie GmbH   Normalladeeinrichtung   \n",
       "3                   4     Entega Plus GmbH   Normalladeeinrichtung   \n",
       "4                   5     Entega Plus GmbH   Normalladeeinrichtung   \n",
       "\n",
       "   anzahl_ladepunkte  anschlussleistung       steckertypen1  \\\n",
       "0                  1                4.6  AC Steckdose Typ 2   \n",
       "1                  2               75.0  AC Steckdose Typ 2   \n",
       "2                  2               44.0  AC Steckdose Typ 2   \n",
       "3                  2               22.0  AC Steckdose Typ 2   \n",
       "4                  2               22.0  AC Steckdose Typ 2   \n",
       "\n",
       "        steckertypen2 steckertypen3 steckertypen4  p1_kw  ...  p4_kw  \\\n",
       "0                 NaN           NaN           NaN    4.6  ...    NaN   \n",
       "1   DC Kupplung Combo           NaN           NaN   22.0  ...    NaN   \n",
       "2  AC Steckdose Typ 2           NaN           NaN   22.0  ...    NaN   \n",
       "3  AC Steckdose Typ 2           NaN           NaN   22.0  ...    NaN   \n",
       "4  AC Steckdose Typ 2           NaN           NaN   22.0  ...    NaN   \n",
       "\n",
       "   kreis_kreisfreie_stadt     ort postleitzahl           strasse  hausnummer  \\\n",
       "0    Landkreis Bergstraße  Lorsch        64653       Klosterstr.          23   \n",
       "1    Landkreis Bergstraße  Lorsch        64653  Nibelungenstraße     135-137   \n",
       "2    Landkreis Bergstraße   Fürth        64658   Krumbacher Str.          39   \n",
       "3    Landkreis Bergstraße   Fürth        64658     Erbacher Str.         102   \n",
       "4    Landkreis Bergstraße   Fürth        64658         Schulstr.          12   \n",
       "\n",
       "  adresszusatz inbetriebnahmedatum breitengrad laengengrad  \n",
       "0          NaN          2017-01-02   49.653064    8.572109  \n",
       "1          NaN          2021-04-27   49.652969    8.554764  \n",
       "2          NaN          2017-11-21   49.658037    8.787881  \n",
       "3            a          2022-04-08   49.663670    8.796830  \n",
       "4          NaN          2022-04-08   49.646360    8.781410  \n",
       "\n",
       "[5 rows x 22 columns]"
      ]
     },
     "execution_count": 8,
     "metadata": {},
     "output_type": "execute_result"
    }
   ],
   "source": [
    "data.head()"
   ]
  },
  {
   "cell_type": "code",
   "execution_count": 9,
   "id": "fba4c202-5f6e-4478-9b1a-0e539a845cde",
   "metadata": {},
   "outputs": [],
   "source": [
    "data[\"betreiber_id\"] = pd.factorize(data[\"betreiber\"])[0]+1"
   ]
  },
  {
   "cell_type": "code",
   "execution_count": 10,
   "id": "476da02c-ab40-4194-ac2e-f821682eb3ee",
   "metadata": {},
   "outputs": [],
   "source": [
    "# Kombinationen von Breitengrad und Längengrad mit einer eindeutigen ID versehen\n",
    "data[\"standort_id\"] = data.groupby([\"breitengrad\", \"laengengrad\"], sort=False).ngroup() + 1"
   ]
  },
  {
   "cell_type": "code",
   "execution_count": 11,
   "id": "7b5ae1fa-71b9-4e20-aa39-40a006754bd8",
   "metadata": {},
   "outputs": [],
   "source": [
    "# Adress-ID vergeben\n",
    "data[\"adress_id\"] = data.groupby([\"postleitzahl\", \"strasse\", \"hausnummer\"], sort=False).ngroup() + 1"
   ]
  },
  {
   "cell_type": "code",
   "execution_count": 12,
   "id": "a908691f-547e-4894-88c9-f0dbedfd2ea0",
   "metadata": {},
   "outputs": [
    {
     "data": {
      "text/html": [
       "<div>\n",
       "<style scoped>\n",
       "    .dataframe tbody tr th:only-of-type {\n",
       "        vertical-align: middle;\n",
       "    }\n",
       "\n",
       "    .dataframe tbody tr th {\n",
       "        vertical-align: top;\n",
       "    }\n",
       "\n",
       "    .dataframe thead th {\n",
       "        text-align: right;\n",
       "    }\n",
       "</style>\n",
       "<table border=\"1\" class=\"dataframe\">\n",
       "  <thead>\n",
       "    <tr style=\"text-align: right;\">\n",
       "      <th></th>\n",
       "      <th>ladeeinrichtung_id</th>\n",
       "      <th>betreiber</th>\n",
       "      <th>art_der_ladeeinrichung</th>\n",
       "      <th>anzahl_ladepunkte</th>\n",
       "      <th>anschlussleistung</th>\n",
       "      <th>steckertypen1</th>\n",
       "      <th>steckertypen2</th>\n",
       "      <th>steckertypen3</th>\n",
       "      <th>steckertypen4</th>\n",
       "      <th>p1_kw</th>\n",
       "      <th>...</th>\n",
       "      <th>postleitzahl</th>\n",
       "      <th>strasse</th>\n",
       "      <th>hausnummer</th>\n",
       "      <th>adresszusatz</th>\n",
       "      <th>inbetriebnahmedatum</th>\n",
       "      <th>breitengrad</th>\n",
       "      <th>laengengrad</th>\n",
       "      <th>betreiber_id</th>\n",
       "      <th>standort_id</th>\n",
       "      <th>adress_id</th>\n",
       "    </tr>\n",
       "  </thead>\n",
       "  <tbody>\n",
       "    <tr>\n",
       "      <th>0</th>\n",
       "      <td>1</td>\n",
       "      <td>GGEW AG</td>\n",
       "      <td>Normalladeeinrichtung</td>\n",
       "      <td>1</td>\n",
       "      <td>4.6</td>\n",
       "      <td>AC Steckdose Typ 2</td>\n",
       "      <td>NaN</td>\n",
       "      <td>NaN</td>\n",
       "      <td>NaN</td>\n",
       "      <td>4.6</td>\n",
       "      <td>...</td>\n",
       "      <td>64653</td>\n",
       "      <td>Klosterstr.</td>\n",
       "      <td>23</td>\n",
       "      <td>NaN</td>\n",
       "      <td>2017-01-02</td>\n",
       "      <td>49.653064</td>\n",
       "      <td>8.572109</td>\n",
       "      <td>1</td>\n",
       "      <td>1</td>\n",
       "      <td>1</td>\n",
       "    </tr>\n",
       "    <tr>\n",
       "      <th>1</th>\n",
       "      <td>2</td>\n",
       "      <td>Pfalzwerke AG</td>\n",
       "      <td>Schnellladeeinrichtung</td>\n",
       "      <td>2</td>\n",
       "      <td>75.0</td>\n",
       "      <td>AC Steckdose Typ 2</td>\n",
       "      <td>DC Kupplung Combo</td>\n",
       "      <td>NaN</td>\n",
       "      <td>NaN</td>\n",
       "      <td>22.0</td>\n",
       "      <td>...</td>\n",
       "      <td>64653</td>\n",
       "      <td>Nibelungenstraße</td>\n",
       "      <td>135-137</td>\n",
       "      <td>NaN</td>\n",
       "      <td>2021-04-27</td>\n",
       "      <td>49.652969</td>\n",
       "      <td>8.554764</td>\n",
       "      <td>2</td>\n",
       "      <td>2</td>\n",
       "      <td>2</td>\n",
       "    </tr>\n",
       "    <tr>\n",
       "      <th>2</th>\n",
       "      <td>3</td>\n",
       "      <td>ENTEGA Energie GmbH</td>\n",
       "      <td>Normalladeeinrichtung</td>\n",
       "      <td>2</td>\n",
       "      <td>44.0</td>\n",
       "      <td>AC Steckdose Typ 2</td>\n",
       "      <td>AC Steckdose Typ 2</td>\n",
       "      <td>NaN</td>\n",
       "      <td>NaN</td>\n",
       "      <td>22.0</td>\n",
       "      <td>...</td>\n",
       "      <td>64658</td>\n",
       "      <td>Krumbacher Str.</td>\n",
       "      <td>39</td>\n",
       "      <td>NaN</td>\n",
       "      <td>2017-11-21</td>\n",
       "      <td>49.658037</td>\n",
       "      <td>8.787881</td>\n",
       "      <td>3</td>\n",
       "      <td>3</td>\n",
       "      <td>3</td>\n",
       "    </tr>\n",
       "    <tr>\n",
       "      <th>3</th>\n",
       "      <td>4</td>\n",
       "      <td>Entega Plus GmbH</td>\n",
       "      <td>Normalladeeinrichtung</td>\n",
       "      <td>2</td>\n",
       "      <td>22.0</td>\n",
       "      <td>AC Steckdose Typ 2</td>\n",
       "      <td>AC Steckdose Typ 2</td>\n",
       "      <td>NaN</td>\n",
       "      <td>NaN</td>\n",
       "      <td>22.0</td>\n",
       "      <td>...</td>\n",
       "      <td>64658</td>\n",
       "      <td>Erbacher Str.</td>\n",
       "      <td>102</td>\n",
       "      <td>a</td>\n",
       "      <td>2022-04-08</td>\n",
       "      <td>49.663670</td>\n",
       "      <td>8.796830</td>\n",
       "      <td>4</td>\n",
       "      <td>4</td>\n",
       "      <td>4</td>\n",
       "    </tr>\n",
       "    <tr>\n",
       "      <th>4</th>\n",
       "      <td>5</td>\n",
       "      <td>Entega Plus GmbH</td>\n",
       "      <td>Normalladeeinrichtung</td>\n",
       "      <td>2</td>\n",
       "      <td>22.0</td>\n",
       "      <td>AC Steckdose Typ 2</td>\n",
       "      <td>AC Steckdose Typ 2</td>\n",
       "      <td>NaN</td>\n",
       "      <td>NaN</td>\n",
       "      <td>22.0</td>\n",
       "      <td>...</td>\n",
       "      <td>64658</td>\n",
       "      <td>Schulstr.</td>\n",
       "      <td>12</td>\n",
       "      <td>NaN</td>\n",
       "      <td>2022-04-08</td>\n",
       "      <td>49.646360</td>\n",
       "      <td>8.781410</td>\n",
       "      <td>4</td>\n",
       "      <td>5</td>\n",
       "      <td>5</td>\n",
       "    </tr>\n",
       "  </tbody>\n",
       "</table>\n",
       "<p>5 rows × 25 columns</p>\n",
       "</div>"
      ],
      "text/plain": [
       "   ladeeinrichtung_id            betreiber  art_der_ladeeinrichung  \\\n",
       "0                   1              GGEW AG   Normalladeeinrichtung   \n",
       "1                   2        Pfalzwerke AG  Schnellladeeinrichtung   \n",
       "2                   3  ENTEGA Energie GmbH   Normalladeeinrichtung   \n",
       "3                   4     Entega Plus GmbH   Normalladeeinrichtung   \n",
       "4                   5     Entega Plus GmbH   Normalladeeinrichtung   \n",
       "\n",
       "   anzahl_ladepunkte  anschlussleistung       steckertypen1  \\\n",
       "0                  1                4.6  AC Steckdose Typ 2   \n",
       "1                  2               75.0  AC Steckdose Typ 2   \n",
       "2                  2               44.0  AC Steckdose Typ 2   \n",
       "3                  2               22.0  AC Steckdose Typ 2   \n",
       "4                  2               22.0  AC Steckdose Typ 2   \n",
       "\n",
       "        steckertypen2 steckertypen3 steckertypen4  p1_kw  ...  postleitzahl  \\\n",
       "0                 NaN           NaN           NaN    4.6  ...         64653   \n",
       "1   DC Kupplung Combo           NaN           NaN   22.0  ...         64653   \n",
       "2  AC Steckdose Typ 2           NaN           NaN   22.0  ...         64658   \n",
       "3  AC Steckdose Typ 2           NaN           NaN   22.0  ...         64658   \n",
       "4  AC Steckdose Typ 2           NaN           NaN   22.0  ...         64658   \n",
       "\n",
       "            strasse  hausnummer adresszusatz inbetriebnahmedatum  breitengrad  \\\n",
       "0       Klosterstr.          23          NaN          2017-01-02    49.653064   \n",
       "1  Nibelungenstraße     135-137          NaN          2021-04-27    49.652969   \n",
       "2   Krumbacher Str.          39          NaN          2017-11-21    49.658037   \n",
       "3     Erbacher Str.         102            a          2022-04-08    49.663670   \n",
       "4         Schulstr.          12          NaN          2022-04-08    49.646360   \n",
       "\n",
       "  laengengrad betreiber_id standort_id adress_id  \n",
       "0    8.572109            1           1         1  \n",
       "1    8.554764            2           2         2  \n",
       "2    8.787881            3           3         3  \n",
       "3    8.796830            4           4         4  \n",
       "4    8.781410            4           5         5  \n",
       "\n",
       "[5 rows x 25 columns]"
      ]
     },
     "execution_count": 12,
     "metadata": {},
     "output_type": "execute_result"
    }
   ],
   "source": [
    "data.head()"
   ]
  },
  {
   "cell_type": "code",
   "execution_count": 13,
   "id": "a9ce8b35-d24f-4d4c-8f7e-67ddae469662",
   "metadata": {},
   "outputs": [
    {
     "data": {
      "text/plain": [
       "ladeeinrichtung_id        36770\n",
       "betreiber                  4772\n",
       "art_der_ladeeinrichung        2\n",
       "anzahl_ladepunkte             4\n",
       "anschlussleistung           213\n",
       "steckertypen1                41\n",
       "steckertypen2                30\n",
       "steckertypen3                19\n",
       "steckertypen4                14\n",
       "p1_kw                       116\n",
       "p2_kw                       102\n",
       "p3_kw                        44\n",
       "p4_kw                        30\n",
       "kreis_kreisfreie_stadt      400\n",
       "ort                        5960\n",
       "postleitzahl               6284\n",
       "strasse                   18142\n",
       "hausnummer                 1649\n",
       "adresszusatz               2938\n",
       "inbetriebnahmedatum        2902\n",
       "breitengrad               33698\n",
       "laengengrad               33794\n",
       "betreiber_id               4772\n",
       "standort_id               34434\n",
       "adress_id                 28909\n",
       "dtype: int64"
      ]
     },
     "execution_count": 13,
     "metadata": {},
     "output_type": "execute_result"
    }
   ],
   "source": [
    "data.nunique()"
   ]
  },
  {
   "cell_type": "code",
   "execution_count": 14,
   "id": "519eca19-fad0-46cc-b4cd-53f0c9ebd832",
   "metadata": {},
   "outputs": [
    {
     "name": "stdout",
     "output_type": "stream",
     "text": [
      "Adress IDs mit mehreren Standort IDs:\n",
      "adress_id\n",
      "49       2\n",
      "54       2\n",
      "59       2\n",
      "63       7\n",
      "72       2\n",
      "        ..\n",
      "28692    2\n",
      "28848    2\n",
      "28861    2\n",
      "28869    2\n",
      "28902    2\n",
      "Name: standort_id, Length: 2081, dtype: int64\n"
     ]
    }
   ],
   "source": [
    "mehrere_standort_ids = data.groupby(\"adress_id\")[\"standort_id\"].nunique()\n",
    "mehrere_standort_ids = mehrere_standort_ids[mehrere_standort_ids > 1]\n",
    "\n",
    "print(\"Adress IDs mit mehreren Standort IDs:\")\n",
    "print(mehrere_standort_ids)"
   ]
  },
  {
   "cell_type": "code",
   "execution_count": 15,
   "id": "4798cf40",
   "metadata": {},
   "outputs": [
    {
     "name": "stdout",
     "output_type": "stream",
     "text": [
      "Standort IDs mit mehreren Adress IDs:\n",
      "standort_id\n",
      "24       2\n",
      "26       3\n",
      "40       2\n",
      "45       2\n",
      "76       2\n",
      "        ..\n",
      "32927    2\n",
      "33854    2\n",
      "34057    2\n",
      "34226    2\n",
      "34356    2\n",
      "Name: adress_id, Length: 454, dtype: int64\n"
     ]
    }
   ],
   "source": [
    "mehrere_adress_ids = data.groupby(\"standort_id\")[\"adress_id\"].nunique()\n",
    "mehrere_adress_ids = mehrere_adress_ids[mehrere_adress_ids > 1]\n",
    "\n",
    "print(\"Standort IDs mit mehreren Adress IDs:\")\n",
    "print(mehrere_adress_ids)"
   ]
  },
  {
   "cell_type": "code",
   "execution_count": 16,
   "id": "919e40a7",
   "metadata": {},
   "outputs": [
    {
     "name": "stdout",
     "output_type": "stream",
     "text": [
      "Standorte mit mehreren Adressen:\n",
      "standort_id\n",
      "24       2\n",
      "26       3\n",
      "40       2\n",
      "45       2\n",
      "76       2\n",
      "        ..\n",
      "32927    2\n",
      "33854    2\n",
      "34057    2\n",
      "34226    2\n",
      "34356    2\n",
      "Name: adress_id, Length: 454, dtype: int64\n"
     ]
    }
   ],
   "source": [
    "duplikate = data.groupby(\"standort_id\")[\"adress_id\"].nunique()\n",
    "duplikate = duplikate[duplikate > 1]\n",
    "print(f\"Standorte mit mehreren Adressen:\\n{duplikate}\")"
   ]
  },
  {
   "cell_type": "code",
   "execution_count": 17,
   "id": "74a8a1f6",
   "metadata": {},
   "outputs": [
    {
     "data": {
      "text/html": [
       "<div>\n",
       "<style scoped>\n",
       "    .dataframe tbody tr th:only-of-type {\n",
       "        vertical-align: middle;\n",
       "    }\n",
       "\n",
       "    .dataframe tbody tr th {\n",
       "        vertical-align: top;\n",
       "    }\n",
       "\n",
       "    .dataframe thead th {\n",
       "        text-align: right;\n",
       "    }\n",
       "</style>\n",
       "<table border=\"1\" class=\"dataframe\">\n",
       "  <thead>\n",
       "    <tr style=\"text-align: right;\">\n",
       "      <th></th>\n",
       "      <th>ladeeinrichtung_id</th>\n",
       "      <th>betreiber</th>\n",
       "      <th>art_der_ladeeinrichung</th>\n",
       "      <th>anzahl_ladepunkte</th>\n",
       "      <th>anschlussleistung</th>\n",
       "      <th>steckertypen1</th>\n",
       "      <th>steckertypen2</th>\n",
       "      <th>steckertypen3</th>\n",
       "      <th>steckertypen4</th>\n",
       "      <th>p1_kw</th>\n",
       "      <th>...</th>\n",
       "      <th>postleitzahl</th>\n",
       "      <th>strasse</th>\n",
       "      <th>hausnummer</th>\n",
       "      <th>adresszusatz</th>\n",
       "      <th>inbetriebnahmedatum</th>\n",
       "      <th>breitengrad</th>\n",
       "      <th>laengengrad</th>\n",
       "      <th>betreiber_id</th>\n",
       "      <th>standort_id</th>\n",
       "      <th>adress_id</th>\n",
       "    </tr>\n",
       "  </thead>\n",
       "  <tbody>\n",
       "    <tr>\n",
       "      <th>30764</th>\n",
       "      <td>30765</td>\n",
       "      <td>Ladestation Berglen Öschelbronn</td>\n",
       "      <td>Normalladeeinrichtung</td>\n",
       "      <td>1</td>\n",
       "      <td>11.0</td>\n",
       "      <td>AC Steckdose Typ 2, AC Schuko</td>\n",
       "      <td>NaN</td>\n",
       "      <td>NaN</td>\n",
       "      <td>NaN</td>\n",
       "      <td>22.0</td>\n",
       "      <td>...</td>\n",
       "      <td>73663</td>\n",
       "      <td>Lilienstr.</td>\n",
       "      <td>9</td>\n",
       "      <td>NaN</td>\n",
       "      <td>1992-10-01</td>\n",
       "      <td>48.886880</td>\n",
       "      <td>9.461024</td>\n",
       "      <td>4277</td>\n",
       "      <td>28936</td>\n",
       "      <td>24537</td>\n",
       "    </tr>\n",
       "    <tr>\n",
       "      <th>23548</th>\n",
       "      <td>23549</td>\n",
       "      <td>Strähle Galvanik GmbH</td>\n",
       "      <td>Normalladeeinrichtung</td>\n",
       "      <td>3</td>\n",
       "      <td>22.0</td>\n",
       "      <td>AC Steckdose Typ 2, AC Schuko</td>\n",
       "      <td>AC Steckdose Typ 2, AC Schuko</td>\n",
       "      <td>AC Steckdose Typ 2, AC Schuko</td>\n",
       "      <td>NaN</td>\n",
       "      <td>22.0</td>\n",
       "      <td>...</td>\n",
       "      <td>75059</td>\n",
       "      <td>Gewerbestrasse</td>\n",
       "      <td>16-18</td>\n",
       "      <td>NaN</td>\n",
       "      <td>2001-01-21</td>\n",
       "      <td>49.103776</td>\n",
       "      <td>8.811045</td>\n",
       "      <td>3598</td>\n",
       "      <td>22461</td>\n",
       "      <td>19260</td>\n",
       "    </tr>\n",
       "    <tr>\n",
       "      <th>19704</th>\n",
       "      <td>19705</td>\n",
       "      <td>Stadtwerke Ludwigslust-Grabow GmbH</td>\n",
       "      <td>Normalladeeinrichtung</td>\n",
       "      <td>2</td>\n",
       "      <td>22.0</td>\n",
       "      <td>AC Steckdose Typ 2</td>\n",
       "      <td>AC Steckdose Typ 2</td>\n",
       "      <td>NaN</td>\n",
       "      <td>NaN</td>\n",
       "      <td>22.0</td>\n",
       "      <td>...</td>\n",
       "      <td>19288</td>\n",
       "      <td>Alexandrinenplatz</td>\n",
       "      <td>0</td>\n",
       "      <td>NaN</td>\n",
       "      <td>2007-05-01</td>\n",
       "      <td>53.324631</td>\n",
       "      <td>11.498688</td>\n",
       "      <td>172</td>\n",
       "      <td>18806</td>\n",
       "      <td>16577</td>\n",
       "    </tr>\n",
       "    <tr>\n",
       "      <th>2475</th>\n",
       "      <td>2476</td>\n",
       "      <td>EGT Energie GmbH</td>\n",
       "      <td>Normalladeeinrichtung</td>\n",
       "      <td>2</td>\n",
       "      <td>44.0</td>\n",
       "      <td>AC Steckdose Typ 2</td>\n",
       "      <td>AC Steckdose Typ 2</td>\n",
       "      <td>NaN</td>\n",
       "      <td>NaN</td>\n",
       "      <td>22.0</td>\n",
       "      <td>...</td>\n",
       "      <td>78120</td>\n",
       "      <td>Gerwigstraße</td>\n",
       "      <td>1</td>\n",
       "      <td>NaN</td>\n",
       "      <td>2008-07-19</td>\n",
       "      <td>48.051540</td>\n",
       "      <td>8.206910</td>\n",
       "      <td>534</td>\n",
       "      <td>2355</td>\n",
       "      <td>2042</td>\n",
       "    </tr>\n",
       "    <tr>\n",
       "      <th>35977</th>\n",
       "      <td>35978</td>\n",
       "      <td>Energieversorgung Oberhausen AG</td>\n",
       "      <td>Normalladeeinrichtung</td>\n",
       "      <td>2</td>\n",
       "      <td>22.0</td>\n",
       "      <td>AC Steckdose Typ 2, AC Kupplung Typ 2</td>\n",
       "      <td>AC Steckdose Typ 2, AC Kupplung Typ 2</td>\n",
       "      <td>NaN</td>\n",
       "      <td>NaN</td>\n",
       "      <td>22.0</td>\n",
       "      <td>...</td>\n",
       "      <td>46047</td>\n",
       "      <td>Luise-Albertz-Platz</td>\n",
       "      <td>0</td>\n",
       "      <td>NaN</td>\n",
       "      <td>2009-01-02</td>\n",
       "      <td>51.492400</td>\n",
       "      <td>6.880100</td>\n",
       "      <td>1103</td>\n",
       "      <td>33716</td>\n",
       "      <td>28313</td>\n",
       "    </tr>\n",
       "  </tbody>\n",
       "</table>\n",
       "<p>5 rows × 25 columns</p>\n",
       "</div>"
      ],
      "text/plain": [
       "       ladeeinrichtung_id                           betreiber  \\\n",
       "30764               30765     Ladestation Berglen Öschelbronn   \n",
       "23548               23549               Strähle Galvanik GmbH   \n",
       "19704               19705  Stadtwerke Ludwigslust-Grabow GmbH   \n",
       "2475                 2476                    EGT Energie GmbH   \n",
       "35977               35978     Energieversorgung Oberhausen AG   \n",
       "\n",
       "      art_der_ladeeinrichung  anzahl_ladepunkte  anschlussleistung  \\\n",
       "30764  Normalladeeinrichtung                  1               11.0   \n",
       "23548  Normalladeeinrichtung                  3               22.0   \n",
       "19704  Normalladeeinrichtung                  2               22.0   \n",
       "2475   Normalladeeinrichtung                  2               44.0   \n",
       "35977  Normalladeeinrichtung                  2               22.0   \n",
       "\n",
       "                               steckertypen1  \\\n",
       "30764          AC Steckdose Typ 2, AC Schuko   \n",
       "23548          AC Steckdose Typ 2, AC Schuko   \n",
       "19704                     AC Steckdose Typ 2   \n",
       "2475                      AC Steckdose Typ 2   \n",
       "35977  AC Steckdose Typ 2, AC Kupplung Typ 2   \n",
       "\n",
       "                               steckertypen2                  steckertypen3  \\\n",
       "30764                                    NaN                            NaN   \n",
       "23548          AC Steckdose Typ 2, AC Schuko  AC Steckdose Typ 2, AC Schuko   \n",
       "19704                     AC Steckdose Typ 2                            NaN   \n",
       "2475                      AC Steckdose Typ 2                            NaN   \n",
       "35977  AC Steckdose Typ 2, AC Kupplung Typ 2                            NaN   \n",
       "\n",
       "      steckertypen4  p1_kw  ...  postleitzahl              strasse  \\\n",
       "30764           NaN   22.0  ...         73663           Lilienstr.   \n",
       "23548           NaN   22.0  ...         75059       Gewerbestrasse   \n",
       "19704           NaN   22.0  ...         19288    Alexandrinenplatz   \n",
       "2475            NaN   22.0  ...         78120         Gerwigstraße   \n",
       "35977           NaN   22.0  ...         46047  Luise-Albertz-Platz   \n",
       "\n",
       "       hausnummer adresszusatz inbetriebnahmedatum  breitengrad laengengrad  \\\n",
       "30764           9          NaN          1992-10-01    48.886880    9.461024   \n",
       "23548       16-18          NaN          2001-01-21    49.103776    8.811045   \n",
       "19704           0          NaN          2007-05-01    53.324631   11.498688   \n",
       "2475            1          NaN          2008-07-19    48.051540    8.206910   \n",
       "35977           0          NaN          2009-01-02    51.492400    6.880100   \n",
       "\n",
       "      betreiber_id standort_id adress_id  \n",
       "30764         4277       28936     24537  \n",
       "23548         3598       22461     19260  \n",
       "19704          172       18806     16577  \n",
       "2475           534        2355      2042  \n",
       "35977         1103       33716     28313  \n",
       "\n",
       "[5 rows x 25 columns]"
      ]
     },
     "execution_count": 17,
     "metadata": {},
     "output_type": "execute_result"
    }
   ],
   "source": [
    "# Zuordnen von einer einzigen (aktuellsten) Adresse für den gleichen Standort (nach Koordinaten)\n",
    "\n",
    "data = data.sort_values(\"inbetriebnahmedatum\").drop_duplicates(subset=[\"standort_id\"], keep=\"last\")\n",
    "\n",
    "\n",
    "# Ausgabe des bereinigten DataFrames\n",
    "data.head()"
   ]
  },
  {
   "cell_type": "code",
   "execution_count": 18,
   "id": "7057556a",
   "metadata": {},
   "outputs": [],
   "source": [
    "# Tabelle Standort"
   ]
  },
  {
   "cell_type": "code",
   "execution_count": 19,
   "id": "eb4b0844",
   "metadata": {},
   "outputs": [],
   "source": [
    "standort = data[['standort_id', 'breitengrad', 'laengengrad', 'adress_id']]"
   ]
  },
  {
   "cell_type": "code",
   "execution_count": 20,
   "id": "35ea8e95",
   "metadata": {},
   "outputs": [],
   "source": [
    "standort = standort.drop_duplicates()"
   ]
  },
  {
   "cell_type": "code",
   "execution_count": 21,
   "id": "8a075edd",
   "metadata": {},
   "outputs": [
    {
     "data": {
      "text/html": [
       "<div>\n",
       "<style scoped>\n",
       "    .dataframe tbody tr th:only-of-type {\n",
       "        vertical-align: middle;\n",
       "    }\n",
       "\n",
       "    .dataframe tbody tr th {\n",
       "        vertical-align: top;\n",
       "    }\n",
       "\n",
       "    .dataframe thead th {\n",
       "        text-align: right;\n",
       "    }\n",
       "</style>\n",
       "<table border=\"1\" class=\"dataframe\">\n",
       "  <thead>\n",
       "    <tr style=\"text-align: right;\">\n",
       "      <th></th>\n",
       "      <th>standort_id</th>\n",
       "      <th>breitengrad</th>\n",
       "      <th>laengengrad</th>\n",
       "      <th>adress_id</th>\n",
       "    </tr>\n",
       "  </thead>\n",
       "  <tbody>\n",
       "    <tr>\n",
       "      <th>30764</th>\n",
       "      <td>28936</td>\n",
       "      <td>48.886880</td>\n",
       "      <td>9.461024</td>\n",
       "      <td>24537</td>\n",
       "    </tr>\n",
       "    <tr>\n",
       "      <th>23548</th>\n",
       "      <td>22461</td>\n",
       "      <td>49.103776</td>\n",
       "      <td>8.811045</td>\n",
       "      <td>19260</td>\n",
       "    </tr>\n",
       "    <tr>\n",
       "      <th>19704</th>\n",
       "      <td>18806</td>\n",
       "      <td>53.324631</td>\n",
       "      <td>11.498688</td>\n",
       "      <td>16577</td>\n",
       "    </tr>\n",
       "    <tr>\n",
       "      <th>2475</th>\n",
       "      <td>2355</td>\n",
       "      <td>48.051540</td>\n",
       "      <td>8.206910</td>\n",
       "      <td>2042</td>\n",
       "    </tr>\n",
       "    <tr>\n",
       "      <th>35977</th>\n",
       "      <td>33716</td>\n",
       "      <td>51.492400</td>\n",
       "      <td>6.880100</td>\n",
       "      <td>28313</td>\n",
       "    </tr>\n",
       "  </tbody>\n",
       "</table>\n",
       "</div>"
      ],
      "text/plain": [
       "       standort_id  breitengrad  laengengrad  adress_id\n",
       "30764        28936    48.886880     9.461024      24537\n",
       "23548        22461    49.103776     8.811045      19260\n",
       "19704        18806    53.324631    11.498688      16577\n",
       "2475          2355    48.051540     8.206910       2042\n",
       "35977        33716    51.492400     6.880100      28313"
      ]
     },
     "execution_count": 21,
     "metadata": {},
     "output_type": "execute_result"
    }
   ],
   "source": [
    "standort.head()"
   ]
  },
  {
   "cell_type": "code",
   "execution_count": 22,
   "id": "087a0bbe",
   "metadata": {},
   "outputs": [
    {
     "name": "stdout",
     "output_type": "stream",
     "text": [
      "<class 'pandas.core.frame.DataFrame'>\n",
      "Index: 34434 entries, 30764 to 26917\n",
      "Data columns (total 4 columns):\n",
      " #   Column       Non-Null Count  Dtype  \n",
      "---  ------       --------------  -----  \n",
      " 0   standort_id  34434 non-null  int64  \n",
      " 1   breitengrad  34434 non-null  float64\n",
      " 2   laengengrad  34434 non-null  float64\n",
      " 3   adress_id    34434 non-null  int64  \n",
      "dtypes: float64(2), int64(2)\n",
      "memory usage: 1.3 MB\n"
     ]
    }
   ],
   "source": [
    "standort.info()"
   ]
  },
  {
   "cell_type": "code",
   "execution_count": 23,
   "id": "ab58d91b",
   "metadata": {},
   "outputs": [
    {
     "data": {
      "text/plain": [
       "standort_id    34434\n",
       "breitengrad    33698\n",
       "laengengrad    33794\n",
       "adress_id      28470\n",
       "dtype: int64"
      ]
     },
     "execution_count": 23,
     "metadata": {},
     "output_type": "execute_result"
    }
   ],
   "source": [
    "standort.nunique()"
   ]
  },
  {
   "cell_type": "code",
   "execution_count": 24,
   "id": "e5390c6f-7019-4753-92b5-4e1a820a7be3",
   "metadata": {},
   "outputs": [],
   "source": [
    "# Tabelle betreiber"
   ]
  },
  {
   "cell_type": "code",
   "execution_count": 25,
   "id": "f8614082-0657-4d6c-bc6f-1b9ebd4a77be",
   "metadata": {},
   "outputs": [],
   "source": [
    "betreiber = data[['betreiber_id', 'betreiber']]"
   ]
  },
  {
   "cell_type": "code",
   "execution_count": 26,
   "id": "7960e8ff-467d-4720-b732-3e4807948b1a",
   "metadata": {},
   "outputs": [],
   "source": [
    "betreiber = betreiber.drop_duplicates()"
   ]
  },
  {
   "cell_type": "code",
   "execution_count": 27,
   "id": "b606aeec-918d-4ba8-8c4a-d5cc07c6f22f",
   "metadata": {},
   "outputs": [
    {
     "name": "stdout",
     "output_type": "stream",
     "text": [
      "<class 'pandas.core.frame.DataFrame'>\n",
      "Index: 4746 entries, 30764 to 11569\n",
      "Data columns (total 2 columns):\n",
      " #   Column        Non-Null Count  Dtype \n",
      "---  ------        --------------  ----- \n",
      " 0   betreiber_id  4746 non-null   int64 \n",
      " 1   betreiber     4746 non-null   object\n",
      "dtypes: int64(1), object(1)\n",
      "memory usage: 111.2+ KB\n"
     ]
    }
   ],
   "source": [
    "betreiber.info()"
   ]
  },
  {
   "cell_type": "code",
   "execution_count": 28,
   "id": "4edffb34",
   "metadata": {},
   "outputs": [],
   "source": [
    "# Tabelle: adresse"
   ]
  },
  {
   "cell_type": "code",
   "execution_count": 29,
   "id": "1f908acb",
   "metadata": {},
   "outputs": [
    {
     "data": {
      "text/plain": [
       "Index(['ladeeinrichtung_id', 'betreiber', 'art_der_ladeeinrichung',\n",
       "       'anzahl_ladepunkte', 'anschlussleistung', 'steckertypen1',\n",
       "       'steckertypen2', 'steckertypen3', 'steckertypen4', 'p1_kw', 'p2_kw',\n",
       "       'p3_kw', 'p4_kw', 'kreis_kreisfreie_stadt', 'ort', 'postleitzahl',\n",
       "       'strasse', 'hausnummer', 'adresszusatz', 'inbetriebnahmedatum',\n",
       "       'breitengrad', 'laengengrad', 'betreiber_id', 'standort_id',\n",
       "       'adress_id'],\n",
       "      dtype='object')"
      ]
     },
     "execution_count": 29,
     "metadata": {},
     "output_type": "execute_result"
    }
   ],
   "source": [
    "data.columns"
   ]
  },
  {
   "cell_type": "code",
   "execution_count": 30,
   "id": "727a957f",
   "metadata": {},
   "outputs": [],
   "source": [
    "adresse = data[['adress_id', 'kreis_kreisfreie_stadt', 'ort', 'postleitzahl','strasse', 'hausnummer']]"
   ]
  },
  {
   "cell_type": "code",
   "execution_count": 31,
   "id": "17bf080b",
   "metadata": {},
   "outputs": [],
   "source": [
    "adresse = adresse.drop_duplicates()"
   ]
  },
  {
   "cell_type": "code",
   "execution_count": 32,
   "id": "1acab441",
   "metadata": {},
   "outputs": [
    {
     "name": "stdout",
     "output_type": "stream",
     "text": [
      "<class 'pandas.core.frame.DataFrame'>\n",
      "Index: 28568 entries, 30764 to 26917\n",
      "Data columns (total 6 columns):\n",
      " #   Column                  Non-Null Count  Dtype \n",
      "---  ------                  --------------  ----- \n",
      " 0   adress_id               28568 non-null  int64 \n",
      " 1   kreis_kreisfreie_stadt  28568 non-null  object\n",
      " 2   ort                     28568 non-null  object\n",
      " 3   postleitzahl            28568 non-null  int64 \n",
      " 4   strasse                 28568 non-null  object\n",
      " 5   hausnummer              28568 non-null  object\n",
      "dtypes: int64(2), object(4)\n",
      "memory usage: 1.5+ MB\n"
     ]
    }
   ],
   "source": [
    "adresse.info()"
   ]
  },
  {
   "cell_type": "code",
   "execution_count": 33,
   "id": "a8cc5423",
   "metadata": {},
   "outputs": [
    {
     "data": {
      "text/plain": [
       "adress_id                 28470\n",
       "kreis_kreisfreie_stadt      400\n",
       "ort                        5917\n",
       "postleitzahl               6260\n",
       "strasse                   17975\n",
       "hausnummer                 1623\n",
       "dtype: int64"
      ]
     },
     "execution_count": 33,
     "metadata": {},
     "output_type": "execute_result"
    }
   ],
   "source": [
    "adresse.nunique()"
   ]
  },
  {
   "cell_type": "code",
   "execution_count": 34,
   "id": "790eb682",
   "metadata": {},
   "outputs": [
    {
     "name": "stdout",
     "output_type": "stream",
     "text": [
      "<class 'pandas.core.frame.DataFrame'>\n",
      "Index: 28470 entries, 0 to 28567\n",
      "Data columns (total 7 columns):\n",
      " #   Column                  Non-Null Count  Dtype \n",
      "---  ------                  --------------  ----- \n",
      " 0   adress_id               28470 non-null  int64 \n",
      " 1   kreis_kreisfreie_stadt  28470 non-null  object\n",
      " 2   ort                     28470 non-null  object\n",
      " 3   postleitzahl            28470 non-null  int64 \n",
      " 4   strasse                 28470 non-null  object\n",
      " 5   hausnummer              28470 non-null  object\n",
      " 6   count                   28470 non-null  int64 \n",
      "dtypes: int64(3), object(4)\n",
      "memory usage: 1.7+ MB\n"
     ]
    }
   ],
   "source": [
    "# Zählen der Vorkommen jeder Adress-Kombination pro adress_id\n",
    "address_counts = data.groupby([\"adress_id\", \"kreis_kreisfreie_stadt\", \"ort\", \"postleitzahl\", \"strasse\", \"hausnummer\"]).size().reset_index(name=\"count\")\n",
    "\n",
    "# Für jede adress_id die Kombination mit der höchsten Anzahl behalten\n",
    "adress = address_counts.loc[address_counts.groupby(\"adress_id\")[\"count\"].idxmax()]\n",
    "\n",
    "adress.info()"
   ]
  },
  {
   "cell_type": "code",
   "execution_count": 35,
   "id": "edbdac12",
   "metadata": {},
   "outputs": [],
   "source": [
    "adresse = adresse.drop_duplicates(subset='adress_id', keep='first')"
   ]
  },
  {
   "cell_type": "code",
   "execution_count": 45,
   "id": "1d6ddb5b",
   "metadata": {},
   "outputs": [
    {
     "name": "stdout",
     "output_type": "stream",
     "text": [
      "<class 'pandas.core.frame.DataFrame'>\n",
      "Index: 28470 entries, 30764 to 26917\n",
      "Data columns (total 6 columns):\n",
      " #   Column                  Non-Null Count  Dtype \n",
      "---  ------                  --------------  ----- \n",
      " 0   adress_id               28470 non-null  int64 \n",
      " 1   kreis_kreisfreie_stadt  28470 non-null  object\n",
      " 2   ort                     28470 non-null  object\n",
      " 3   postleitzahl            28470 non-null  int64 \n",
      " 4   strasse                 28470 non-null  object\n",
      " 5   hausnummer              28470 non-null  object\n",
      "dtypes: int64(2), object(4)\n",
      "memory usage: 1.5+ MB\n"
     ]
    }
   ],
   "source": [
    "adresse.info()"
   ]
  },
  {
   "cell_type": "code",
   "execution_count": 44,
   "id": "fafb69ec",
   "metadata": {},
   "outputs": [
    {
     "data": {
      "text/plain": [
       "adress_id                 28470\n",
       "kreis_kreisfreie_stadt      400\n",
       "ort                        5876\n",
       "postleitzahl               6260\n",
       "strasse                   17975\n",
       "hausnummer                 1623\n",
       "dtype: int64"
      ]
     },
     "execution_count": 44,
     "metadata": {},
     "output_type": "execute_result"
    }
   ],
   "source": [
    "adresse.nunique()"
   ]
  },
  {
   "cell_type": "code",
   "execution_count": 36,
   "id": "ee6af2d5",
   "metadata": {},
   "outputs": [],
   "source": [
    "# Tabelle: ladeeinrichtung"
   ]
  },
  {
   "cell_type": "code",
   "execution_count": 37,
   "id": "677bb1b5",
   "metadata": {},
   "outputs": [
    {
     "data": {
      "text/plain": [
       "Index(['ladeeinrichtung_id', 'betreiber', 'art_der_ladeeinrichung',\n",
       "       'anzahl_ladepunkte', 'anschlussleistung', 'steckertypen1',\n",
       "       'steckertypen2', 'steckertypen3', 'steckertypen4', 'p1_kw', 'p2_kw',\n",
       "       'p3_kw', 'p4_kw', 'kreis_kreisfreie_stadt', 'ort', 'postleitzahl',\n",
       "       'strasse', 'hausnummer', 'adresszusatz', 'inbetriebnahmedatum',\n",
       "       'breitengrad', 'laengengrad', 'betreiber_id', 'standort_id',\n",
       "       'adress_id'],\n",
       "      dtype='object')"
      ]
     },
     "execution_count": 37,
     "metadata": {},
     "output_type": "execute_result"
    }
   ],
   "source": [
    "data.columns"
   ]
  },
  {
   "cell_type": "code",
   "execution_count": 38,
   "id": "1f25ae3d",
   "metadata": {},
   "outputs": [],
   "source": [
    "ladeeinrichtung = data[['ladeeinrichtung_id', 'art_der_ladeeinrichung', 'anzahl_ladepunkte', 'anschlussleistung', 'steckertypen1','steckertypen2', 'steckertypen3', 'steckertypen4', 'p1_kw', 'p2_kw', 'p3_kw', 'p4_kw', 'inbetriebnahmedatum', 'betreiber_id', 'standort_id']]"
   ]
  },
  {
   "cell_type": "code",
   "execution_count": 39,
   "id": "c4d419f5",
   "metadata": {},
   "outputs": [
    {
     "name": "stdout",
     "output_type": "stream",
     "text": [
      "<class 'pandas.core.frame.DataFrame'>\n",
      "Index: 34434 entries, 30764 to 26917\n",
      "Data columns (total 15 columns):\n",
      " #   Column                  Non-Null Count  Dtype  \n",
      "---  ------                  --------------  -----  \n",
      " 0   ladeeinrichtung_id      34434 non-null  int64  \n",
      " 1   art_der_ladeeinrichung  34434 non-null  object \n",
      " 2   anzahl_ladepunkte       34434 non-null  int64  \n",
      " 3   anschlussleistung       34434 non-null  float64\n",
      " 4   steckertypen1           34434 non-null  object \n",
      " 5   steckertypen2           29190 non-null  object \n",
      " 6   steckertypen3           2050 non-null   object \n",
      " 7   steckertypen4           997 non-null    object \n",
      " 8   p1_kw                   34434 non-null  float64\n",
      " 9   p2_kw                   29196 non-null  float64\n",
      " 10  p3_kw                   2050 non-null   float64\n",
      " 11  p4_kw                   996 non-null    float64\n",
      " 12  inbetriebnahmedatum     34434 non-null  object \n",
      " 13  betreiber_id            34434 non-null  int64  \n",
      " 14  standort_id             34434 non-null  int64  \n",
      "dtypes: float64(5), int64(4), object(6)\n",
      "memory usage: 4.2+ MB\n"
     ]
    }
   ],
   "source": [
    "ladeeinrichtung.info()"
   ]
  },
  {
   "cell_type": "code",
   "execution_count": 40,
   "id": "d387d196",
   "metadata": {},
   "outputs": [],
   "source": [
    "ladeeinrichtung.to_csv('ladeeinrichtung.csv', index=False, na_rep='NULL')"
   ]
  },
  {
   "cell_type": "code",
   "execution_count": 41,
   "id": "5a6004f2",
   "metadata": {},
   "outputs": [],
   "source": [
    "betreiber.to_csv('betreiber.csv', index=False)"
   ]
  },
  {
   "cell_type": "code",
   "execution_count": 42,
   "id": "501afede",
   "metadata": {},
   "outputs": [],
   "source": [
    "standort.to_csv('standort.csv', index=False)"
   ]
  },
  {
   "cell_type": "code",
   "execution_count": 43,
   "id": "46b34e06",
   "metadata": {},
   "outputs": [],
   "source": [
    "adresse.to_csv('adresse.csv', index=False)"
   ]
  }
 ],
 "metadata": {
  "kernelspec": {
   "display_name": "Python 3",
   "language": "python",
   "name": "python3"
  },
  "language_info": {
   "codemirror_mode": {
    "name": "ipython",
    "version": 3
   },
   "file_extension": ".py",
   "mimetype": "text/x-python",
   "name": "python",
   "nbconvert_exporter": "python",
   "pygments_lexer": "ipython3",
   "version": "3.12.5"
  }
 },
 "nbformat": 4,
 "nbformat_minor": 5
}
