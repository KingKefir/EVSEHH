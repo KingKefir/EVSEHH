{
 "cells": [
  {
   "cell_type": "code",
   "execution_count": 8,
   "metadata": {},
   "outputs": [],
   "source": [
    "# Vorbereitung der Daten und Erstellen von zwei neuen CSV-Dateien"
   ]
  },
  {
   "cell_type": "code",
   "execution_count": null,
   "metadata": {},
   "outputs": [
    {
     "name": "stderr",
     "output_type": "stream",
     "text": [
      "C:\\Users\\petra\\AppData\\Local\\Temp\\ipykernel_16056\\863527573.py:2: DtypeWarning: Columns (21,24) have mixed types. Specify dtype option on import or set low_memory=False.\n",
      "  data = pd.read_csv(\"ladesaeulenregister.csv\", delimiter=\";\", on_bad_lines=\"skip\")\n"
     ]
    }
   ],
   "source": [
    "import pandas as pd\n",
    "data = pd.read_csv(\"ladesaeulenregister.csv\", delimiter=\";\", on_bad_lines=\"skip\")\n"
   ]
  },
  {
   "cell_type": "code",
   "execution_count": 10,
   "metadata": {},
   "outputs": [
    {
     "data": {
      "text/plain": [
       "Index(['Betreiber', 'Straße', 'Hausnummer', 'Adresszusatz', 'Postleitzahl',\n",
       "       'Ort', 'Bundesland', 'Kreis/kreisfreie Stadt', 'Breitengrad',\n",
       "       'Längengrad', 'Inbetriebnahmedatum',\n",
       "       'Nennleistung Ladeeinrichtung [kW]', 'Art der Ladeeinrichung',\n",
       "       'Anzahl Ladepunkte', 'Steckertypen1', 'P1 [kW]', 'Public Key1',\n",
       "       'Steckertypen2', 'P2 [kW]', 'Public Key2', 'Steckertypen3', 'P3 [kW]',\n",
       "       'Public Key3', 'Steckertypen4', 'P4 [kW]', 'Public Key4'],\n",
       "      dtype='object')"
      ]
     },
     "execution_count": 10,
     "metadata": {},
     "output_type": "execute_result"
    }
   ],
   "source": [
    "data.columns"
   ]
  },
  {
   "cell_type": "code",
   "execution_count": 11,
   "metadata": {},
   "outputs": [],
   "source": [
    "# Unnötige Spalten / Zeilen entfernen\n",
    "data = data.drop(columns=['Adresszusatz', 'Public Key1', 'Public Key2', 'Public Key3', 'Public Key4' ])\n",
    "data = data.dropna(subset=['Inbetriebnahmedatum'])\n",
    "data = data.dropna(subset=['Betreiber'])\n",
    "\n",
    "# Jahr der Inbetriebnahme in neue Spalte\n",
    "data['Inbetriebnahmejahr'] = pd.to_datetime(data['Inbetriebnahmedatum'], format='%d.%m.%Y', errors='coerce').dt.year\n",
    "\n",
    "# Datentyp Float für numerische Spaltenwerte:\n",
    "columns_to_convert = [\"P1 [kW]\", \"P2 [kW]\", \"P3 [kW]\", \"Nennleistung Ladeeinrichtung [kW]\" ]\n",
    "for col in columns_to_convert:\n",
    "    data[col] = data[col].replace(',', '.', regex=True)\n",
    "    data[col] = pd.to_numeric(data[col], errors='coerce')\n",
    "\n",
    "# Neue Spalte für Ladegeschwindigkeit\n",
    "def ladegeschwindigkeit(row):\n",
    "    if row['P1 [kW]'] <= 22:\n",
    "        return 'Normalladen'\n",
    "    elif 22 < row['P1 [kW]'] <= 150:\n",
    "        return 'Schnellladen'\n",
    "    else:\n",
    "        return 'High Power Charging'\n",
    "\n",
    "# Funktion auf Zeilen anwenden und neue Spalte hinzufügen\n",
    "data['Ladegeschwindigkeit'] = data.apply(ladegeschwindigkeit, axis=1)\n",
    "\n",
    "data['Breitengrad'] = data['Breitengrad'].str.replace(',', '.').str.rstrip('.').astype(float)\n",
    "data['Längengrad'] = data['Längengrad'].str.replace(',', '.').str.rstrip('.').astype(float)"
   ]
  },
  {
   "cell_type": "code",
   "execution_count": 12,
   "metadata": {},
   "outputs": [],
   "source": [
    "data.to_csv(\"ladesaeulen.csv\", index=False, sep=\";\")\n"
   ]
  },
  {
   "cell_type": "code",
   "execution_count": 13,
   "metadata": {},
   "outputs": [],
   "source": [
    "# Umwandlung der Daten: Jede Ladepunkt-Information in eine eigene Zeile\n",
    "rows = []\n",
    "for _, row in data.iterrows():\n",
    "    for i in range(1, 5):  # Für Steckertypen1 bis Steckertypen4\n",
    "        steckertyp = row[f\"Steckertypen{i}\"]\n",
    "        p_kw = row[f\"P{i} [kW]\"]\n",
    "        \n",
    "        if pd.notna(steckertyp):  # Nur Einträge mit Steckertypen behalten\n",
    "            new_row = row.drop([f\"Steckertypen{j}\" for j in range(1, 5)] +\n",
    "                               [f\"P{j} [kW]\" for j in range(1, 5)]).to_dict()\n",
    "            new_row.update({\n",
    "                \"Steckertyp\": steckertyp,\n",
    "                \"Leistung [kW]\": p_kw,\n",
    "            })\n",
    "            rows.append(new_row)\n",
    "\n",
    "# Neues DataFrame erstellen\n",
    "data_ladeplaetze = pd.DataFrame(rows)"
   ]
  },
  {
   "cell_type": "code",
   "execution_count": 14,
   "metadata": {},
   "outputs": [],
   "source": [
    "data_ladeplaetze.to_csv(\"ladeplaetze.csv\", index=False, sep=\";\")"
   ]
  }
 ],
 "metadata": {
  "kernelspec": {
   "display_name": "Python 3",
   "language": "python",
   "name": "python3"
  },
  "language_info": {
   "codemirror_mode": {
    "name": "ipython",
    "version": 3
   },
   "file_extension": ".py",
   "mimetype": "text/x-python",
   "name": "python",
   "nbconvert_exporter": "python",
   "pygments_lexer": "ipython3",
   "version": "3.12.5"
  }
 },
 "nbformat": 4,
 "nbformat_minor": 2
}
